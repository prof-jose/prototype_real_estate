{
 "cells": [
  {
   "cell_type": "markdown",
   "id": "8aaded32",
   "metadata": {},
   "source": [
    "# Analysis of experiments\n",
    "\n",
    "This notebook extracts the performance metrics."
   ]
  },
  {
   "cell_type": "markdown",
   "id": "ebe2daaa",
   "metadata": {},
   "source": [
    "## Retrieve metrics from mlflow\n",
    "\n",
    "Retrieving all the metrics from mlflow. \n",
    "For simplicity and convenience, we read them manually and place them into a pandas df. "
   ]
  },
  {
   "cell_type": "code",
   "execution_count": 1,
   "id": "29aac0f6",
   "metadata": {},
   "outputs": [],
   "source": [
    "# Necessary imports\n",
    "import os\n",
    "import pandas as pd\n",
    "import numpy as np\n",
    "from tqdm import tqdm"
   ]
  },
  {
   "cell_type": "code",
   "execution_count": 2,
   "id": "0de2c987",
   "metadata": {},
   "outputs": [],
   "source": [
    "# ML Flow experiment dir\n",
    "MLFLOW_DIR = \"../mlruns/0/\""
   ]
  },
  {
   "cell_type": "code",
   "execution_count": 3,
   "id": "c8c5d5af",
   "metadata": {},
   "outputs": [],
   "source": [
    "files = os.listdir(MLFLOW_DIR)"
   ]
  },
  {
   "cell_type": "code",
   "execution_count": 4,
   "id": "d4403fb2",
   "metadata": {},
   "outputs": [],
   "source": [
    "# Get columns for params and metrics\n",
    "params = os.listdir(MLFLOW_DIR + files[0] + \"/params/\")\n",
    "metrics = os.listdir(MLFLOW_DIR + files[0] + \"/metrics/\")"
   ]
  },
  {
   "cell_type": "code",
   "execution_count": 5,
   "id": "5ad341f4",
   "metadata": {},
   "outputs": [
    {
     "name": "stderr",
     "output_type": "stream",
     "text": [
      "100%|███████████████████████████████████| 48653/48653 [00:17<00:00, 2858.54it/s]\n"
     ]
    }
   ],
   "source": [
    "# Populate mlflow results\n",
    "# (was done manually for compatibility)\n",
    "\n",
    "all_values = []\n",
    "for file in tqdm(files): \n",
    "    if '.' in file:\n",
    "        continue\n",
    "    value = {}\n",
    "    for p in params: \n",
    "        with open(MLFLOW_DIR + file + \"/params/\" + p, \"rt\") as f:\n",
    "            value[p] = f.read()\n",
    "    for m in metrics: \n",
    "        try:\n",
    "            with open(MLFLOW_DIR + file + \"/metrics/\" + m, \"rt\") as f:\n",
    "                value[m] = f.read().split(\" \")[1]\n",
    "        except FileNotFoundError:\n",
    "            value[m] = np.nan\n",
    "\n",
    "    all_values += [value]"
   ]
  },
  {
   "cell_type": "code",
   "execution_count": 6,
   "id": "34b88554",
   "metadata": {},
   "outputs": [],
   "source": [
    "df = pd.DataFrame(all_values)"
   ]
  },
  {
   "cell_type": "code",
   "execution_count": 7,
   "id": "f88b3dae",
   "metadata": {},
   "outputs": [],
   "source": [
    "df = df.apply(pd.to_numeric, errors=\"ignore\")"
   ]
  },
  {
   "cell_type": "code",
   "execution_count": 8,
   "id": "cd6c9ce9",
   "metadata": {},
   "outputs": [],
   "source": [
    "# If needed, concat manually with previously produced & saved results.\n",
    "# df2 = pd.read_csv(\"summary.csv\")\n",
    "# df = pd.concat([df, df2])"
   ]
  },
  {
   "cell_type": "markdown",
   "id": "71c083ef",
   "metadata": {},
   "source": [
    "## Inspect result"
   ]
  },
  {
   "cell_type": "markdown",
   "id": "5ee9f587",
   "metadata": {},
   "source": [
    "Let's inspect some results (set the desired number of prototypes and method):"
   ]
  },
  {
   "cell_type": "code",
   "execution_count": 9,
   "id": "a1e724df",
   "metadata": {},
   "outputs": [],
   "source": [
    "results_df = df[(df['n_prototypes']==10) & (df['method']==\"repr\")]"
   ]
  },
  {
   "cell_type": "code",
   "execution_count": 10,
   "id": "ab21ea95",
   "metadata": {},
   "outputs": [],
   "source": [
    "# We'll groupby everything except the seed\n",
    "params_for_group = params.copy()\n",
    "params_for_group.remove('seed')"
   ]
  },
  {
   "cell_type": "code",
   "execution_count": 11,
   "id": "863133e7",
   "metadata": {},
   "outputs": [],
   "source": [
    "agg_df = results_df.groupby(params_for_group).agg({'val_mse': [np.mean, np.std], 'test_mse': [np.mean, np.std]})"
   ]
  },
  {
   "cell_type": "code",
   "execution_count": 12,
   "id": "41658f95",
   "metadata": {},
   "outputs": [
    {
     "data": {
      "text/html": [
       "<div>\n",
       "<style scoped>\n",
       "    .dataframe tbody tr th:only-of-type {\n",
       "        vertical-align: middle;\n",
       "    }\n",
       "\n",
       "    .dataframe tbody tr th {\n",
       "        vertical-align: top;\n",
       "    }\n",
       "\n",
       "    .dataframe thead tr th {\n",
       "        text-align: left;\n",
       "    }\n",
       "\n",
       "    .dataframe thead tr:last-of-type th {\n",
       "        text-align: right;\n",
       "    }\n",
       "</style>\n",
       "<table border=\"1\" class=\"dataframe\">\n",
       "  <thead>\n",
       "    <tr>\n",
       "      <th></th>\n",
       "      <th></th>\n",
       "      <th></th>\n",
       "      <th></th>\n",
       "      <th></th>\n",
       "      <th></th>\n",
       "      <th></th>\n",
       "      <th></th>\n",
       "      <th colspan=\"2\" halign=\"left\">val_mse</th>\n",
       "      <th colspan=\"2\" halign=\"left\">test_mse</th>\n",
       "    </tr>\n",
       "    <tr>\n",
       "      <th></th>\n",
       "      <th></th>\n",
       "      <th></th>\n",
       "      <th></th>\n",
       "      <th></th>\n",
       "      <th></th>\n",
       "      <th></th>\n",
       "      <th></th>\n",
       "      <th>mean</th>\n",
       "      <th>std</th>\n",
       "      <th>mean</th>\n",
       "      <th>std</th>\n",
       "    </tr>\n",
       "    <tr>\n",
       "      <th>regularization</th>\n",
       "      <th>scale</th>\n",
       "      <th>method</th>\n",
       "      <th>batch_size</th>\n",
       "      <th>total_epochs</th>\n",
       "      <th>learning_rate</th>\n",
       "      <th>n_prototypes</th>\n",
       "      <th>epoch</th>\n",
       "      <th></th>\n",
       "      <th></th>\n",
       "      <th></th>\n",
       "      <th></th>\n",
       "    </tr>\n",
       "  </thead>\n",
       "  <tbody>\n",
       "    <tr>\n",
       "      <th rowspan=\"5\" valign=\"top\">0.0</th>\n",
       "      <th rowspan=\"5\" valign=\"top\">0.5</th>\n",
       "      <th rowspan=\"5\" valign=\"top\">repr</th>\n",
       "      <th>256</th>\n",
       "      <th>10</th>\n",
       "      <th>0.010</th>\n",
       "      <th>10</th>\n",
       "      <th>9</th>\n",
       "      <td>0.005571</td>\n",
       "      <td>0.000032</td>\n",
       "      <td>0.006461</td>\n",
       "      <td>0.000118</td>\n",
       "    </tr>\n",
       "    <tr>\n",
       "      <th>32</th>\n",
       "      <th>10</th>\n",
       "      <th>0.005</th>\n",
       "      <th>10</th>\n",
       "      <th>9</th>\n",
       "      <td>0.005578</td>\n",
       "      <td>0.000042</td>\n",
       "      <td>0.006357</td>\n",
       "      <td>0.000141</td>\n",
       "    </tr>\n",
       "    <tr>\n",
       "      <th>256</th>\n",
       "      <th>10</th>\n",
       "      <th>0.010</th>\n",
       "      <th>10</th>\n",
       "      <th>8</th>\n",
       "      <td>0.005578</td>\n",
       "      <td>0.000033</td>\n",
       "      <td>0.006471</td>\n",
       "      <td>0.000119</td>\n",
       "    </tr>\n",
       "    <tr>\n",
       "      <th rowspan=\"2\" valign=\"top\">32</th>\n",
       "      <th rowspan=\"2\" valign=\"top\">10</th>\n",
       "      <th rowspan=\"2\" valign=\"top\">0.005</th>\n",
       "      <th rowspan=\"2\" valign=\"top\">10</th>\n",
       "      <th>8</th>\n",
       "      <td>0.005580</td>\n",
       "      <td>0.000042</td>\n",
       "      <td>0.006364</td>\n",
       "      <td>0.000140</td>\n",
       "    </tr>\n",
       "    <tr>\n",
       "      <th>7</th>\n",
       "      <td>0.005584</td>\n",
       "      <td>0.000042</td>\n",
       "      <td>0.006372</td>\n",
       "      <td>0.000138</td>\n",
       "    </tr>\n",
       "  </tbody>\n",
       "</table>\n",
       "</div>"
      ],
      "text/plain": [
       "                                                                                       val_mse   \n",
       "                                                                                          mean   \n",
       "regularization scale method batch_size total_epochs learning_rate n_prototypes epoch             \n",
       "0.0            0.5   repr   256        10           0.010         10           9      0.005571  \\\n",
       "                            32         10           0.005         10           9      0.005578   \n",
       "                            256        10           0.010         10           8      0.005578   \n",
       "                            32         10           0.005         10           8      0.005580   \n",
       "                                                                               7      0.005584   \n",
       "\n",
       "                                                                                                 \n",
       "                                                                                           std   \n",
       "regularization scale method batch_size total_epochs learning_rate n_prototypes epoch             \n",
       "0.0            0.5   repr   256        10           0.010         10           9      0.000032  \\\n",
       "                            32         10           0.005         10           9      0.000042   \n",
       "                            256        10           0.010         10           8      0.000033   \n",
       "                            32         10           0.005         10           8      0.000042   \n",
       "                                                                               7      0.000042   \n",
       "\n",
       "                                                                                      test_mse   \n",
       "                                                                                          mean   \n",
       "regularization scale method batch_size total_epochs learning_rate n_prototypes epoch             \n",
       "0.0            0.5   repr   256        10           0.010         10           9      0.006461  \\\n",
       "                            32         10           0.005         10           9      0.006357   \n",
       "                            256        10           0.010         10           8      0.006471   \n",
       "                            32         10           0.005         10           8      0.006364   \n",
       "                                                                               7      0.006372   \n",
       "\n",
       "                                                                                                \n",
       "                                                                                           std  \n",
       "regularization scale method batch_size total_epochs learning_rate n_prototypes epoch            \n",
       "0.0            0.5   repr   256        10           0.010         10           9      0.000118  \n",
       "                            32         10           0.005         10           9      0.000141  \n",
       "                            256        10           0.010         10           8      0.000119  \n",
       "                            32         10           0.005         10           8      0.000140  \n",
       "                                                                               7      0.000138  "
      ]
     },
     "execution_count": 12,
     "metadata": {},
     "output_type": "execute_result"
    }
   ],
   "source": [
    "# Sort by validation accuracy\n",
    "sorted_agg_df = agg_df.sort_values(by=('val_mse', 'mean'))\n",
    "sorted_agg_df.head()"
   ]
  },
  {
   "cell_type": "markdown",
   "id": "87fec2c7",
   "metadata": {},
   "source": [
    "### Get  test accuracy for best validation accuracy"
   ]
  },
  {
   "cell_type": "code",
   "execution_count": 13,
   "id": "8f09a5cf",
   "metadata": {},
   "outputs": [
    {
     "data": {
      "text/plain": [
       "val_mse   mean    0.005571\n",
       "          std     0.000032\n",
       "test_mse  mean    0.006461\n",
       "          std     0.000118\n",
       "Name: (0.0, 0.5, repr, 256, 10, 0.01, 10, 9), dtype: float64"
      ]
     },
     "execution_count": 13,
     "metadata": {},
     "output_type": "execute_result"
    }
   ],
   "source": [
    "sorted_agg_df.iloc[0,:]"
   ]
  },
  {
   "cell_type": "code",
   "execution_count": 14,
   "id": "fd48938f",
   "metadata": {},
   "outputs": [
    {
     "data": {
      "text/plain": [
       "0.00646118191070851"
      ]
     },
     "execution_count": 14,
     "metadata": {},
     "output_type": "execute_result"
    }
   ],
   "source": [
    "sorted_agg_df.iloc[0,2]"
   ]
  },
  {
   "cell_type": "code",
   "execution_count": 15,
   "id": "298aac8e",
   "metadata": {},
   "outputs": [
    {
     "data": {
      "text/plain": [
       "0.00011753292857060273"
      ]
     },
     "execution_count": 15,
     "metadata": {},
     "output_type": "execute_result"
    }
   ],
   "source": [
    "sorted_agg_df.iloc[0,3]"
   ]
  },
  {
   "cell_type": "markdown",
   "id": "977a081d",
   "metadata": {},
   "source": [
    "### Results for k-means"
   ]
  },
  {
   "cell_type": "code",
   "execution_count": 16,
   "id": "8b009b29",
   "metadata": {},
   "outputs": [],
   "source": [
    "baseline_df = df[(df['n_prototypes']==10) & (df['method']=='random_pick')]"
   ]
  },
  {
   "cell_type": "code",
   "execution_count": 17,
   "id": "608803fe",
   "metadata": {},
   "outputs": [
    {
     "data": {
      "text/html": [
       "<div>\n",
       "<style scoped>\n",
       "    .dataframe tbody tr th:only-of-type {\n",
       "        vertical-align: middle;\n",
       "    }\n",
       "\n",
       "    .dataframe tbody tr th {\n",
       "        vertical-align: top;\n",
       "    }\n",
       "\n",
       "    .dataframe thead th {\n",
       "        text-align: right;\n",
       "    }\n",
       "</style>\n",
       "<table border=\"1\" class=\"dataframe\">\n",
       "  <thead>\n",
       "    <tr style=\"text-align: right;\">\n",
       "      <th></th>\n",
       "      <th>regularization</th>\n",
       "      <th>scale</th>\n",
       "      <th>method</th>\n",
       "      <th>seed</th>\n",
       "      <th>batch_size</th>\n",
       "      <th>total_epochs</th>\n",
       "      <th>learning_rate</th>\n",
       "      <th>n_prototypes</th>\n",
       "      <th>epoch</th>\n",
       "      <th>val_mean_of_radii</th>\n",
       "      <th>train_loss</th>\n",
       "      <th>test_mse</th>\n",
       "      <th>val_mse</th>\n",
       "      <th>train_mean_of_radii</th>\n",
       "      <th>test_mean_of_radii</th>\n",
       "    </tr>\n",
       "  </thead>\n",
       "  <tbody>\n",
       "    <tr>\n",
       "      <th>9042</th>\n",
       "      <td>0.0</td>\n",
       "      <td>0.01</td>\n",
       "      <td>random_pick</td>\n",
       "      <td>6</td>\n",
       "      <td>256</td>\n",
       "      <td>0</td>\n",
       "      <td>0.0005</td>\n",
       "      <td>10</td>\n",
       "      <td>0</td>\n",
       "      <td>0.662903</td>\n",
       "      <td>NaN</td>\n",
       "      <td>0.014347</td>\n",
       "      <td>0.013830</td>\n",
       "      <td>NaN</td>\n",
       "      <td>0.657295</td>\n",
       "    </tr>\n",
       "    <tr>\n",
       "      <th>14703</th>\n",
       "      <td>0.0</td>\n",
       "      <td>0.01</td>\n",
       "      <td>random_pick</td>\n",
       "      <td>2</td>\n",
       "      <td>256</td>\n",
       "      <td>0</td>\n",
       "      <td>0.0005</td>\n",
       "      <td>10</td>\n",
       "      <td>0</td>\n",
       "      <td>0.611442</td>\n",
       "      <td>NaN</td>\n",
       "      <td>0.020266</td>\n",
       "      <td>0.018013</td>\n",
       "      <td>NaN</td>\n",
       "      <td>0.613698</td>\n",
       "    </tr>\n",
       "    <tr>\n",
       "      <th>17509</th>\n",
       "      <td>0.0</td>\n",
       "      <td>0.01</td>\n",
       "      <td>random_pick</td>\n",
       "      <td>4</td>\n",
       "      <td>256</td>\n",
       "      <td>0</td>\n",
       "      <td>0.0005</td>\n",
       "      <td>10</td>\n",
       "      <td>0</td>\n",
       "      <td>0.566383</td>\n",
       "      <td>NaN</td>\n",
       "      <td>0.013699</td>\n",
       "      <td>0.013669</td>\n",
       "      <td>NaN</td>\n",
       "      <td>0.548108</td>\n",
       "    </tr>\n",
       "    <tr>\n",
       "      <th>23742</th>\n",
       "      <td>0.0</td>\n",
       "      <td>0.01</td>\n",
       "      <td>random_pick</td>\n",
       "      <td>1</td>\n",
       "      <td>256</td>\n",
       "      <td>0</td>\n",
       "      <td>0.0005</td>\n",
       "      <td>10</td>\n",
       "      <td>0</td>\n",
       "      <td>0.679955</td>\n",
       "      <td>NaN</td>\n",
       "      <td>0.013966</td>\n",
       "      <td>0.012072</td>\n",
       "      <td>NaN</td>\n",
       "      <td>0.665832</td>\n",
       "    </tr>\n",
       "    <tr>\n",
       "      <th>27207</th>\n",
       "      <td>0.0</td>\n",
       "      <td>0.01</td>\n",
       "      <td>random_pick</td>\n",
       "      <td>8</td>\n",
       "      <td>256</td>\n",
       "      <td>0</td>\n",
       "      <td>0.0005</td>\n",
       "      <td>10</td>\n",
       "      <td>0</td>\n",
       "      <td>0.533727</td>\n",
       "      <td>NaN</td>\n",
       "      <td>0.042563</td>\n",
       "      <td>0.043152</td>\n",
       "      <td>NaN</td>\n",
       "      <td>0.529307</td>\n",
       "    </tr>\n",
       "    <tr>\n",
       "      <th>29329</th>\n",
       "      <td>0.0</td>\n",
       "      <td>0.01</td>\n",
       "      <td>random_pick</td>\n",
       "      <td>0</td>\n",
       "      <td>256</td>\n",
       "      <td>0</td>\n",
       "      <td>0.0005</td>\n",
       "      <td>10</td>\n",
       "      <td>0</td>\n",
       "      <td>0.785114</td>\n",
       "      <td>NaN</td>\n",
       "      <td>0.017897</td>\n",
       "      <td>0.015693</td>\n",
       "      <td>NaN</td>\n",
       "      <td>0.788415</td>\n",
       "    </tr>\n",
       "    <tr>\n",
       "      <th>29375</th>\n",
       "      <td>0.0</td>\n",
       "      <td>0.01</td>\n",
       "      <td>random_pick</td>\n",
       "      <td>5</td>\n",
       "      <td>256</td>\n",
       "      <td>0</td>\n",
       "      <td>0.0005</td>\n",
       "      <td>10</td>\n",
       "      <td>0</td>\n",
       "      <td>0.662045</td>\n",
       "      <td>NaN</td>\n",
       "      <td>0.013776</td>\n",
       "      <td>0.012954</td>\n",
       "      <td>NaN</td>\n",
       "      <td>0.670905</td>\n",
       "    </tr>\n",
       "    <tr>\n",
       "      <th>41035</th>\n",
       "      <td>0.0</td>\n",
       "      <td>0.01</td>\n",
       "      <td>random_pick</td>\n",
       "      <td>9</td>\n",
       "      <td>256</td>\n",
       "      <td>0</td>\n",
       "      <td>0.0005</td>\n",
       "      <td>10</td>\n",
       "      <td>0</td>\n",
       "      <td>0.594428</td>\n",
       "      <td>NaN</td>\n",
       "      <td>0.011481</td>\n",
       "      <td>0.011525</td>\n",
       "      <td>NaN</td>\n",
       "      <td>0.601948</td>\n",
       "    </tr>\n",
       "    <tr>\n",
       "      <th>45445</th>\n",
       "      <td>0.0</td>\n",
       "      <td>0.01</td>\n",
       "      <td>random_pick</td>\n",
       "      <td>3</td>\n",
       "      <td>256</td>\n",
       "      <td>0</td>\n",
       "      <td>0.0005</td>\n",
       "      <td>10</td>\n",
       "      <td>0</td>\n",
       "      <td>0.613776</td>\n",
       "      <td>NaN</td>\n",
       "      <td>0.016787</td>\n",
       "      <td>0.015832</td>\n",
       "      <td>NaN</td>\n",
       "      <td>0.615420</td>\n",
       "    </tr>\n",
       "    <tr>\n",
       "      <th>47916</th>\n",
       "      <td>0.0</td>\n",
       "      <td>0.01</td>\n",
       "      <td>random_pick</td>\n",
       "      <td>7</td>\n",
       "      <td>256</td>\n",
       "      <td>0</td>\n",
       "      <td>0.0005</td>\n",
       "      <td>10</td>\n",
       "      <td>0</td>\n",
       "      <td>0.538021</td>\n",
       "      <td>NaN</td>\n",
       "      <td>0.012329</td>\n",
       "      <td>0.012193</td>\n",
       "      <td>NaN</td>\n",
       "      <td>0.536700</td>\n",
       "    </tr>\n",
       "  </tbody>\n",
       "</table>\n",
       "</div>"
      ],
      "text/plain": [
       "       regularization  scale       method  seed  batch_size  total_epochs   \n",
       "9042              0.0   0.01  random_pick     6         256             0  \\\n",
       "14703             0.0   0.01  random_pick     2         256             0   \n",
       "17509             0.0   0.01  random_pick     4         256             0   \n",
       "23742             0.0   0.01  random_pick     1         256             0   \n",
       "27207             0.0   0.01  random_pick     8         256             0   \n",
       "29329             0.0   0.01  random_pick     0         256             0   \n",
       "29375             0.0   0.01  random_pick     5         256             0   \n",
       "41035             0.0   0.01  random_pick     9         256             0   \n",
       "45445             0.0   0.01  random_pick     3         256             0   \n",
       "47916             0.0   0.01  random_pick     7         256             0   \n",
       "\n",
       "       learning_rate  n_prototypes  epoch  val_mean_of_radii  train_loss   \n",
       "9042          0.0005            10      0           0.662903         NaN  \\\n",
       "14703         0.0005            10      0           0.611442         NaN   \n",
       "17509         0.0005            10      0           0.566383         NaN   \n",
       "23742         0.0005            10      0           0.679955         NaN   \n",
       "27207         0.0005            10      0           0.533727         NaN   \n",
       "29329         0.0005            10      0           0.785114         NaN   \n",
       "29375         0.0005            10      0           0.662045         NaN   \n",
       "41035         0.0005            10      0           0.594428         NaN   \n",
       "45445         0.0005            10      0           0.613776         NaN   \n",
       "47916         0.0005            10      0           0.538021         NaN   \n",
       "\n",
       "       test_mse   val_mse  train_mean_of_radii  test_mean_of_radii  \n",
       "9042   0.014347  0.013830                  NaN            0.657295  \n",
       "14703  0.020266  0.018013                  NaN            0.613698  \n",
       "17509  0.013699  0.013669                  NaN            0.548108  \n",
       "23742  0.013966  0.012072                  NaN            0.665832  \n",
       "27207  0.042563  0.043152                  NaN            0.529307  \n",
       "29329  0.017897  0.015693                  NaN            0.788415  \n",
       "29375  0.013776  0.012954                  NaN            0.670905  \n",
       "41035  0.011481  0.011525                  NaN            0.601948  \n",
       "45445  0.016787  0.015832                  NaN            0.615420  \n",
       "47916  0.012329  0.012193                  NaN            0.536700  "
      ]
     },
     "execution_count": 17,
     "metadata": {},
     "output_type": "execute_result"
    }
   ],
   "source": [
    "baseline_df"
   ]
  },
  {
   "cell_type": "code",
   "execution_count": 18,
   "id": "83b185f7",
   "metadata": {},
   "outputs": [
    {
     "data": {
      "text/plain": [
       "0.017710925079882093"
      ]
     },
     "execution_count": 18,
     "metadata": {},
     "output_type": "execute_result"
    }
   ],
   "source": [
    "baseline_df.test_mse.mean()"
   ]
  },
  {
   "cell_type": "code",
   "execution_count": 19,
   "id": "4ec22afc",
   "metadata": {},
   "outputs": [
    {
     "data": {
      "text/plain": [
       "0.009127282522016984"
      ]
     },
     "execution_count": 19,
     "metadata": {},
     "output_type": "execute_result"
    }
   ],
   "source": [
    "baseline_df.test_mse.std()"
   ]
  },
  {
   "cell_type": "markdown",
   "id": "50764d49",
   "metadata": {},
   "source": [
    "## Systematic results\n",
    "\n",
    "The following cells produce tables and plots systematically based on all the results collected. "
   ]
  },
  {
   "cell_type": "code",
   "execution_count": 20,
   "id": "bd84218b",
   "metadata": {},
   "outputs": [],
   "source": [
    "def get_results(method, nprot):\n",
    "    results_df = df[(df['n_prototypes']==nprot) & (df['method']==method)].copy()\n",
    "    results_df['test_mse_abs'] = np.sqrt(results_df['test_mse'])*1000\n",
    "    if method == \"repr\":\n",
    "        agg_df = results_df.groupby(params_for_group).agg({'val_mse': [np.mean, np.min, np.max], 'test_mse_abs': [np.mean, np.min, np.max]})\n",
    "        sorted_agg_df = agg_df.sort_values(by=('val_mse', 'mean'))\n",
    "        test_acc = sorted_agg_df.iloc[0,3]\n",
    "        test_min = sorted_agg_df.iloc[0,4]\n",
    "        test_max = sorted_agg_df.iloc[0,5]\n",
    "        \n",
    "    if method == \"kmeans\" or method==\"random_pick\":\n",
    "        test_acc = results_df.test_mse_abs.mean()\n",
    "        test_min = results_df.test_mse_abs.min()\n",
    "        test_max = results_df.test_mse_abs.max()\n",
    "        \n",
    "    return test_acc, test_min, test_max"
   ]
  },
  {
   "cell_type": "code",
   "execution_count": 21,
   "id": "09572aae",
   "metadata": {},
   "outputs": [],
   "source": [
    "table = []\n",
    "for n in [10, 20, 50, 100]:\n",
    "    for method in [\"repr\", \"kmeans\", \"random_pick\"]:\n",
    "    #for method in [\"random_pick\"]:\n",
    "        acc, tmin, tmax = get_results(method, n)\n",
    "        table += [[method, n, acc, tmin, tmax]]\n",
    "df_final = pd.DataFrame(table)\n",
    "df_final.columns = [\"method\", \"n\", \"test_mse\", \"test_min\", \"test_max\"]\n",
    "\n",
    "#df_final['test_mse_abs'] = np.sqrt(df_final['test_mse'])*1000\n",
    "#df_final['test_min_abs'] = np.sqrt(df_final['test_std'])*1000"
   ]
  },
  {
   "cell_type": "code",
   "execution_count": 22,
   "id": "e88b220a",
   "metadata": {},
   "outputs": [
    {
     "data": {
      "text/html": [
       "<div>\n",
       "<style scoped>\n",
       "    .dataframe tbody tr th:only-of-type {\n",
       "        vertical-align: middle;\n",
       "    }\n",
       "\n",
       "    .dataframe tbody tr th {\n",
       "        vertical-align: top;\n",
       "    }\n",
       "\n",
       "    .dataframe thead th {\n",
       "        text-align: right;\n",
       "    }\n",
       "</style>\n",
       "<table border=\"1\" class=\"dataframe\">\n",
       "  <thead>\n",
       "    <tr style=\"text-align: right;\">\n",
       "      <th></th>\n",
       "      <th>method</th>\n",
       "      <th>n</th>\n",
       "      <th>test_mse</th>\n",
       "      <th>test_min</th>\n",
       "      <th>test_max</th>\n",
       "    </tr>\n",
       "  </thead>\n",
       "  <tbody>\n",
       "    <tr>\n",
       "      <th>0</th>\n",
       "      <td>repr</td>\n",
       "      <td>10</td>\n",
       "      <td>80.378487</td>\n",
       "      <td>79.215947</td>\n",
       "      <td>81.659206</td>\n",
       "    </tr>\n",
       "    <tr>\n",
       "      <th>1</th>\n",
       "      <td>kmeans</td>\n",
       "      <td>10</td>\n",
       "      <td>95.982052</td>\n",
       "      <td>93.580500</td>\n",
       "      <td>96.419007</td>\n",
       "    </tr>\n",
       "    <tr>\n",
       "      <th>2</th>\n",
       "      <td>random_pick</td>\n",
       "      <td>10</td>\n",
       "      <td>130.255932</td>\n",
       "      <td>107.148855</td>\n",
       "      <td>206.308507</td>\n",
       "    </tr>\n",
       "    <tr>\n",
       "      <th>3</th>\n",
       "      <td>repr</td>\n",
       "      <td>20</td>\n",
       "      <td>78.355280</td>\n",
       "      <td>77.696852</td>\n",
       "      <td>79.415303</td>\n",
       "    </tr>\n",
       "    <tr>\n",
       "      <th>4</th>\n",
       "      <td>kmeans</td>\n",
       "      <td>20</td>\n",
       "      <td>87.619238</td>\n",
       "      <td>85.731387</td>\n",
       "      <td>88.773956</td>\n",
       "    </tr>\n",
       "    <tr>\n",
       "      <th>5</th>\n",
       "      <td>random_pick</td>\n",
       "      <td>20</td>\n",
       "      <td>118.535068</td>\n",
       "      <td>102.716655</td>\n",
       "      <td>177.389365</td>\n",
       "    </tr>\n",
       "    <tr>\n",
       "      <th>6</th>\n",
       "      <td>repr</td>\n",
       "      <td>50</td>\n",
       "      <td>76.650499</td>\n",
       "      <td>76.195823</td>\n",
       "      <td>77.285593</td>\n",
       "    </tr>\n",
       "    <tr>\n",
       "      <th>7</th>\n",
       "      <td>kmeans</td>\n",
       "      <td>50</td>\n",
       "      <td>81.750150</td>\n",
       "      <td>81.255646</td>\n",
       "      <td>82.190388</td>\n",
       "    </tr>\n",
       "    <tr>\n",
       "      <th>8</th>\n",
       "      <td>random_pick</td>\n",
       "      <td>50</td>\n",
       "      <td>109.722770</td>\n",
       "      <td>96.471659</td>\n",
       "      <td>133.603566</td>\n",
       "    </tr>\n",
       "    <tr>\n",
       "      <th>9</th>\n",
       "      <td>repr</td>\n",
       "      <td>100</td>\n",
       "      <td>75.986582</td>\n",
       "      <td>75.756432</td>\n",
       "      <td>76.137881</td>\n",
       "    </tr>\n",
       "    <tr>\n",
       "      <th>10</th>\n",
       "      <td>kmeans</td>\n",
       "      <td>100</td>\n",
       "      <td>78.851888</td>\n",
       "      <td>78.479582</td>\n",
       "      <td>79.245207</td>\n",
       "    </tr>\n",
       "    <tr>\n",
       "      <th>11</th>\n",
       "      <td>random_pick</td>\n",
       "      <td>100</td>\n",
       "      <td>104.408025</td>\n",
       "      <td>97.501924</td>\n",
       "      <td>111.025982</td>\n",
       "    </tr>\n",
       "  </tbody>\n",
       "</table>\n",
       "</div>"
      ],
      "text/plain": [
       "         method    n    test_mse    test_min    test_max\n",
       "0          repr   10   80.378487   79.215947   81.659206\n",
       "1        kmeans   10   95.982052   93.580500   96.419007\n",
       "2   random_pick   10  130.255932  107.148855  206.308507\n",
       "3          repr   20   78.355280   77.696852   79.415303\n",
       "4        kmeans   20   87.619238   85.731387   88.773956\n",
       "5   random_pick   20  118.535068  102.716655  177.389365\n",
       "6          repr   50   76.650499   76.195823   77.285593\n",
       "7        kmeans   50   81.750150   81.255646   82.190388\n",
       "8   random_pick   50  109.722770   96.471659  133.603566\n",
       "9          repr  100   75.986582   75.756432   76.137881\n",
       "10       kmeans  100   78.851888   78.479582   79.245207\n",
       "11  random_pick  100  104.408025   97.501924  111.025982"
      ]
     },
     "execution_count": 22,
     "metadata": {},
     "output_type": "execute_result"
    }
   ],
   "source": [
    "df_final"
   ]
  },
  {
   "cell_type": "code",
   "execution_count": 23,
   "id": "1383adbd",
   "metadata": {
    "scrolled": false
   },
   "outputs": [
    {
     "data": {
      "text/plain": [
       "<matplotlib.legend.Legend at 0x7f356563f8b0>"
      ]
     },
     "execution_count": 23,
     "metadata": {},
     "output_type": "execute_result"
    },
    {
     "data": {
      "image/png": "[encoded data removed]",
      "text/plain": [
       "<Figure size 750x750 with 1 Axes>"
      ]
     },
     "metadata": {},
     "output_type": "display_data"
    }
   ],
   "source": [
    "import matplotlib\n",
    "import matplotlib.pyplot as plt\n",
    "\n",
    "f = plt.figure(figsize=(7.5,7.5))\n",
    "\n",
    "plt.plot(df_final[df_final.method==\"random_pick\"][\"n\"], df_final[df_final.method==\"random_pick\"][\"test_mse\"], '--o')\n",
    "plt.plot(df_final[df_final.method==\"kmeans\"][\"n\"], df_final[df_final.method==\"kmeans\"][\"test_mse\"], '-.^')\n",
    "plt.plot(df_final[df_final.method==\"repr\"][\"n\"], df_final[df_final.method==\"repr\"][\"test_mse\"], '-s')\n",
    "\n",
    "font = {'size'   : 22}\n",
    "matplotlib.rc('font', **font)\n",
    "\n",
    "plt.xlabel(\"Number of prototypes\")\n",
    "plt.ylabel(\"RMSE (\\$/ft$^2$)\")\n",
    "\n",
    "plt.legend(['Random', 'KMeans + Avg Price', 'Prototypes'])\n",
    "\n"
   ]
  }
 ],
 "metadata": {
  "kernelspec": {
   "display_name": "Python 3 (ipykernel)",
   "language": "python",
   "name": "python3"
  },
  "language_info": {
   "codemirror_mode": {
    "name": "ipython",
    "version": 3
   },
   "file_extension": ".py",
   "mimetype": "text/x-python",
   "name": "python",
   "nbconvert_exporter": "python",
   "pygments_lexer": "ipython3",
   "version": "3.9.7"
  }
 },
 "nbformat": 4,
 "nbformat_minor": 5
}
